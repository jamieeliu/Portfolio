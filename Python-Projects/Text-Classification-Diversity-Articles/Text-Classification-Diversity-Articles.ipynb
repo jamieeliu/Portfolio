{
  "nbformat": 4,
  "nbformat_minor": 0,
  "metadata": {
    "accelerator": "GPU",
    "colab": {
      "name": "Text-Classification-Diversity-Articles.ipynb",
      "provenance": [],
      "collapsed_sections": [],
      "machine_shape": "hm"
    },
    "kernelspec": {
      "display_name": "Python 3",
      "name": "python3"
    },
    "widgets": {
      "application/vnd.jupyter.widget-state+json": {
        "3777d8bf579141c9a0749dbf447a1fce": {
          "model_module": "@jupyter-widgets/controls",
          "model_name": "HBoxModel",
          "state": {
            "_view_name": "HBoxView",
            "_dom_classes": [],
            "_model_name": "HBoxModel",
            "_view_module": "@jupyter-widgets/controls",
            "_model_module_version": "1.5.0",
            "_view_count": null,
            "_view_module_version": "1.5.0",
            "box_style": "",
            "layout": "IPY_MODEL_7d97f40170b14dd8aad956e4a5fe8f51",
            "_model_module": "@jupyter-widgets/controls",
            "children": [
              "IPY_MODEL_e97f1b5c3f95436e9e8940f8a05e1c38",
              "IPY_MODEL_b8ce98d6cbe44ac0bf3f69132379ad9e"
            ]
          }
        },
        "7d97f40170b14dd8aad956e4a5fe8f51": {
          "model_module": "@jupyter-widgets/base",
          "model_name": "LayoutModel",
          "state": {
            "_view_name": "LayoutView",
            "grid_template_rows": null,
            "right": null,
            "justify_content": null,
            "_view_module": "@jupyter-widgets/base",
            "overflow": null,
            "_model_module_version": "1.2.0",
            "_view_count": null,
            "flex_flow": null,
            "width": null,
            "min_width": null,
            "border": null,
            "align_items": null,
            "bottom": null,
            "_model_module": "@jupyter-widgets/base",
            "top": null,
            "grid_column": null,
            "overflow_y": null,
            "overflow_x": null,
            "grid_auto_flow": null,
            "grid_area": null,
            "grid_template_columns": null,
            "flex": null,
            "_model_name": "LayoutModel",
            "justify_items": null,
            "grid_row": null,
            "max_height": null,
            "align_content": null,
            "visibility": null,
            "align_self": null,
            "height": null,
            "min_height": null,
            "padding": null,
            "grid_auto_rows": null,
            "grid_gap": null,
            "max_width": null,
            "order": null,
            "_view_module_version": "1.2.0",
            "grid_template_areas": null,
            "object_position": null,
            "object_fit": null,
            "grid_auto_columns": null,
            "margin": null,
            "display": null,
            "left": null
          }
        },
        "e97f1b5c3f95436e9e8940f8a05e1c38": {
          "model_module": "@jupyter-widgets/controls",
          "model_name": "FloatProgressModel",
          "state": {
            "_view_name": "ProgressView",
            "style": "IPY_MODEL_4659e5464f6a46e4b4b3c8835c4cbf99",
            "_dom_classes": [],
            "description": "Downloading: 100%",
            "_model_name": "FloatProgressModel",
            "bar_style": "success",
            "max": 433,
            "_view_module": "@jupyter-widgets/controls",
            "_model_module_version": "1.5.0",
            "value": 433,
            "_view_count": null,
            "_view_module_version": "1.5.0",
            "orientation": "horizontal",
            "min": 0,
            "description_tooltip": null,
            "_model_module": "@jupyter-widgets/controls",
            "layout": "IPY_MODEL_cea1a0e2c303470eb008b5b1ec76c2bd"
          }
        },
        "b8ce98d6cbe44ac0bf3f69132379ad9e": {
          "model_module": "@jupyter-widgets/controls",
          "model_name": "HTMLModel",
          "state": {
            "_view_name": "HTMLView",
            "style": "IPY_MODEL_20c59252ee8c41828ff965ec258d017a",
            "_dom_classes": [],
            "description": "",
            "_model_name": "HTMLModel",
            "placeholder": "​",
            "_view_module": "@jupyter-widgets/controls",
            "_model_module_version": "1.5.0",
            "value": " 433/433 [00:01&lt;00:00, 300B/s]",
            "_view_count": null,
            "_view_module_version": "1.5.0",
            "description_tooltip": null,
            "_model_module": "@jupyter-widgets/controls",
            "layout": "IPY_MODEL_ad0df3cb4ee3474ea2799996971817c6"
          }
        },
        "4659e5464f6a46e4b4b3c8835c4cbf99": {
          "model_module": "@jupyter-widgets/controls",
          "model_name": "ProgressStyleModel",
          "state": {
            "_view_name": "StyleView",
            "_model_name": "ProgressStyleModel",
            "description_width": "initial",
            "_view_module": "@jupyter-widgets/base",
            "_model_module_version": "1.5.0",
            "_view_count": null,
            "_view_module_version": "1.2.0",
            "bar_color": null,
            "_model_module": "@jupyter-widgets/controls"
          }
        },
        "cea1a0e2c303470eb008b5b1ec76c2bd": {
          "model_module": "@jupyter-widgets/base",
          "model_name": "LayoutModel",
          "state": {
            "_view_name": "LayoutView",
            "grid_template_rows": null,
            "right": null,
            "justify_content": null,
            "_view_module": "@jupyter-widgets/base",
            "overflow": null,
            "_model_module_version": "1.2.0",
            "_view_count": null,
            "flex_flow": null,
            "width": null,
            "min_width": null,
            "border": null,
            "align_items": null,
            "bottom": null,
            "_model_module": "@jupyter-widgets/base",
            "top": null,
            "grid_column": null,
            "overflow_y": null,
            "overflow_x": null,
            "grid_auto_flow": null,
            "grid_area": null,
            "grid_template_columns": null,
            "flex": null,
            "_model_name": "LayoutModel",
            "justify_items": null,
            "grid_row": null,
            "max_height": null,
            "align_content": null,
            "visibility": null,
            "align_self": null,
            "height": null,
            "min_height": null,
            "padding": null,
            "grid_auto_rows": null,
            "grid_gap": null,
            "max_width": null,
            "order": null,
            "_view_module_version": "1.2.0",
            "grid_template_areas": null,
            "object_position": null,
            "object_fit": null,
            "grid_auto_columns": null,
            "margin": null,
            "display": null,
            "left": null
          }
        },
        "20c59252ee8c41828ff965ec258d017a": {
          "model_module": "@jupyter-widgets/controls",
          "model_name": "DescriptionStyleModel",
          "state": {
            "_view_name": "StyleView",
            "_model_name": "DescriptionStyleModel",
            "description_width": "",
            "_view_module": "@jupyter-widgets/base",
            "_model_module_version": "1.5.0",
            "_view_count": null,
            "_view_module_version": "1.2.0",
            "_model_module": "@jupyter-widgets/controls"
          }
        },
        "ad0df3cb4ee3474ea2799996971817c6": {
          "model_module": "@jupyter-widgets/base",
          "model_name": "LayoutModel",
          "state": {
            "_view_name": "LayoutView",
            "grid_template_rows": null,
            "right": null,
            "justify_content": null,
            "_view_module": "@jupyter-widgets/base",
            "overflow": null,
            "_model_module_version": "1.2.0",
            "_view_count": null,
            "flex_flow": null,
            "width": null,
            "min_width": null,
            "border": null,
            "align_items": null,
            "bottom": null,
            "_model_module": "@jupyter-widgets/base",
            "top": null,
            "grid_column": null,
            "overflow_y": null,
            "overflow_x": null,
            "grid_auto_flow": null,
            "grid_area": null,
            "grid_template_columns": null,
            "flex": null,
            "_model_name": "LayoutModel",
            "justify_items": null,
            "grid_row": null,
            "max_height": null,
            "align_content": null,
            "visibility": null,
            "align_self": null,
            "height": null,
            "min_height": null,
            "padding": null,
            "grid_auto_rows": null,
            "grid_gap": null,
            "max_width": null,
            "order": null,
            "_view_module_version": "1.2.0",
            "grid_template_areas": null,
            "object_position": null,
            "object_fit": null,
            "grid_auto_columns": null,
            "margin": null,
            "display": null,
            "left": null
          }
        },
        "462be505716248e2abb979e0bc173f55": {
          "model_module": "@jupyter-widgets/controls",
          "model_name": "HBoxModel",
          "state": {
            "_view_name": "HBoxView",
            "_dom_classes": [],
            "_model_name": "HBoxModel",
            "_view_module": "@jupyter-widgets/controls",
            "_model_module_version": "1.5.0",
            "_view_count": null,
            "_view_module_version": "1.5.0",
            "box_style": "",
            "layout": "IPY_MODEL_3e7ae502c7e248daa02c1613505eb930",
            "_model_module": "@jupyter-widgets/controls",
            "children": [
              "IPY_MODEL_0fddafcc341f48f29f8b2c42d753a93b",
              "IPY_MODEL_57bde87b1da349d3ac4137d3b7635440"
            ]
          }
        },
        "3e7ae502c7e248daa02c1613505eb930": {
          "model_module": "@jupyter-widgets/base",
          "model_name": "LayoutModel",
          "state": {
            "_view_name": "LayoutView",
            "grid_template_rows": null,
            "right": null,
            "justify_content": null,
            "_view_module": "@jupyter-widgets/base",
            "overflow": null,
            "_model_module_version": "1.2.0",
            "_view_count": null,
            "flex_flow": null,
            "width": null,
            "min_width": null,
            "border": null,
            "align_items": null,
            "bottom": null,
            "_model_module": "@jupyter-widgets/base",
            "top": null,
            "grid_column": null,
            "overflow_y": null,
            "overflow_x": null,
            "grid_auto_flow": null,
            "grid_area": null,
            "grid_template_columns": null,
            "flex": null,
            "_model_name": "LayoutModel",
            "justify_items": null,
            "grid_row": null,
            "max_height": null,
            "align_content": null,
            "visibility": null,
            "align_self": null,
            "height": null,
            "min_height": null,
            "padding": null,
            "grid_auto_rows": null,
            "grid_gap": null,
            "max_width": null,
            "order": null,
            "_view_module_version": "1.2.0",
            "grid_template_areas": null,
            "object_position": null,
            "object_fit": null,
            "grid_auto_columns": null,
            "margin": null,
            "display": null,
            "left": null
          }
        },
        "0fddafcc341f48f29f8b2c42d753a93b": {
          "model_module": "@jupyter-widgets/controls",
          "model_name": "FloatProgressModel",
          "state": {
            "_view_name": "ProgressView",
            "style": "IPY_MODEL_ab604316c2684294a6c19bd12b4f7a2b",
            "_dom_classes": [],
            "description": "Downloading: 100%",
            "_model_name": "FloatProgressModel",
            "bar_style": "success",
            "max": 526681800,
            "_view_module": "@jupyter-widgets/controls",
            "_model_module_version": "1.5.0",
            "value": 526681800,
            "_view_count": null,
            "_view_module_version": "1.5.0",
            "orientation": "horizontal",
            "min": 0,
            "description_tooltip": null,
            "_model_module": "@jupyter-widgets/controls",
            "layout": "IPY_MODEL_7077475e7ee642b8bda0c4773425ba56"
          }
        },
        "57bde87b1da349d3ac4137d3b7635440": {
          "model_module": "@jupyter-widgets/controls",
          "model_name": "HTMLModel",
          "state": {
            "_view_name": "HTMLView",
            "style": "IPY_MODEL_e55689965405436d8a22e4c12f1291a7",
            "_dom_classes": [],
            "description": "",
            "_model_name": "HTMLModel",
            "placeholder": "​",
            "_view_module": "@jupyter-widgets/controls",
            "_model_module_version": "1.5.0",
            "value": " 527M/527M [00:18&lt;00:00, 28.5MB/s]",
            "_view_count": null,
            "_view_module_version": "1.5.0",
            "description_tooltip": null,
            "_model_module": "@jupyter-widgets/controls",
            "layout": "IPY_MODEL_a8b94e8426b64a209fe13ebf9378e024"
          }
        },
        "ab604316c2684294a6c19bd12b4f7a2b": {
          "model_module": "@jupyter-widgets/controls",
          "model_name": "ProgressStyleModel",
          "state": {
            "_view_name": "StyleView",
            "_model_name": "ProgressStyleModel",
            "description_width": "initial",
            "_view_module": "@jupyter-widgets/base",
            "_model_module_version": "1.5.0",
            "_view_count": null,
            "_view_module_version": "1.2.0",
            "bar_color": null,
            "_model_module": "@jupyter-widgets/controls"
          }
        },
        "7077475e7ee642b8bda0c4773425ba56": {
          "model_module": "@jupyter-widgets/base",
          "model_name": "LayoutModel",
          "state": {
            "_view_name": "LayoutView",
            "grid_template_rows": null,
            "right": null,
            "justify_content": null,
            "_view_module": "@jupyter-widgets/base",
            "overflow": null,
            "_model_module_version": "1.2.0",
            "_view_count": null,
            "flex_flow": null,
            "width": null,
            "min_width": null,
            "border": null,
            "align_items": null,
            "bottom": null,
            "_model_module": "@jupyter-widgets/base",
            "top": null,
            "grid_column": null,
            "overflow_y": null,
            "overflow_x": null,
            "grid_auto_flow": null,
            "grid_area": null,
            "grid_template_columns": null,
            "flex": null,
            "_model_name": "LayoutModel",
            "justify_items": null,
            "grid_row": null,
            "max_height": null,
            "align_content": null,
            "visibility": null,
            "align_self": null,
            "height": null,
            "min_height": null,
            "padding": null,
            "grid_auto_rows": null,
            "grid_gap": null,
            "max_width": null,
            "order": null,
            "_view_module_version": "1.2.0",
            "grid_template_areas": null,
            "object_position": null,
            "object_fit": null,
            "grid_auto_columns": null,
            "margin": null,
            "display": null,
            "left": null
          }
        },
        "e55689965405436d8a22e4c12f1291a7": {
          "model_module": "@jupyter-widgets/controls",
          "model_name": "DescriptionStyleModel",
          "state": {
            "_view_name": "StyleView",
            "_model_name": "DescriptionStyleModel",
            "description_width": "",
            "_view_module": "@jupyter-widgets/base",
            "_model_module_version": "1.5.0",
            "_view_count": null,
            "_view_module_version": "1.2.0",
            "_model_module": "@jupyter-widgets/controls"
          }
        },
        "a8b94e8426b64a209fe13ebf9378e024": {
          "model_module": "@jupyter-widgets/base",
          "model_name": "LayoutModel",
          "state": {
            "_view_name": "LayoutView",
            "grid_template_rows": null,
            "right": null,
            "justify_content": null,
            "_view_module": "@jupyter-widgets/base",
            "overflow": null,
            "_model_module_version": "1.2.0",
            "_view_count": null,
            "flex_flow": null,
            "width": null,
            "min_width": null,
            "border": null,
            "align_items": null,
            "bottom": null,
            "_model_module": "@jupyter-widgets/base",
            "top": null,
            "grid_column": null,
            "overflow_y": null,
            "overflow_x": null,
            "grid_auto_flow": null,
            "grid_area": null,
            "grid_template_columns": null,
            "flex": null,
            "_model_name": "LayoutModel",
            "justify_items": null,
            "grid_row": null,
            "max_height": null,
            "align_content": null,
            "visibility": null,
            "align_self": null,
            "height": null,
            "min_height": null,
            "padding": null,
            "grid_auto_rows": null,
            "grid_gap": null,
            "max_width": null,
            "order": null,
            "_view_module_version": "1.2.0",
            "grid_template_areas": null,
            "object_position": null,
            "object_fit": null,
            "grid_auto_columns": null,
            "margin": null,
            "display": null,
            "left": null
          }
        }
      }
    }
  },
  "cells": [
    {
      "cell_type": "markdown",
      "metadata": {
        "id": "hGSUArJ_ZYN3"
      },
      "source": [
        "# Imports"
      ]
    },
    {
      "cell_type": "code",
      "metadata": {
        "colab": {
          "base_uri": "https://localhost:8080/"
        },
        "id": "16hoKG5dbeWs",
        "outputId": "3698e179-9d4c-4480-d224-a40cd47a1f7d"
      },
      "source": [
        "from sklearn.model_selection import train_test_split\n",
        "import tensorflow as tf\n",
        "print(tf.__version__)\n",
        "try:\n",
        "  import ktrain\n",
        "except:\n",
        "  !pip install ktrain\n",
        "  import ktrain\n",
        "from ktrain import text\n",
        "import time\n",
        "from urllib.parse import urlparse\n",
        "import pandas as pd\n",
        "from keras.preprocessing.text import Tokenizer\n",
        "import pickle\n",
        "import json\n",
        "import glob"
      ],
      "execution_count": null,
      "outputs": [
        {
          "output_type": "stream",
          "text": [
            "2.4.1\n"
          ],
          "name": "stdout"
        }
      ]
    },
    {
      "cell_type": "code",
      "metadata": {
        "colab": {
          "base_uri": "https://localhost:8080/"
        },
        "id": "mLlkT83oEt6L",
        "outputId": "e97861ae-006e-43f2-bab5-34b826cee6fc"
      },
      "source": [
        "from google.colab import drive\n",
        "drive.mount('/content/drive')"
      ],
      "execution_count": null,
      "outputs": [
        {
          "output_type": "stream",
          "text": [
            "Mounted at /content/drive\n"
          ],
          "name": "stdout"
        }
      ]
    },
    {
      "cell_type": "markdown",
      "metadata": {
        "id": "mOzt6BPc7TIX"
      },
      "source": [
        "# Pull and Extract the Diversity Articles Data"
      ]
    },
    {
      "cell_type": "code",
      "metadata": {
        "id": "b34I6hpbh7WY"
      },
      "source": [
        "#Pull the articles data\n",
        "!wget https://s3.amazonaws.com/vargo.aprd6342/data/diversity-2021-02-09.tar.gz -P /content/drive/MyDrive/APRD6343/TextClassification"
      ],
      "execution_count": null,
      "outputs": []
    },
    {
      "cell_type": "code",
      "metadata": {
        "colab": {
          "base_uri": "https://localhost:8080/"
        },
        "id": "O74arsT2k4_E",
        "outputId": "b01fbde4-6a9b-43e0-b549-f1f6452629b2"
      },
      "source": [
        "#Extract the articles data\n",
        "\n",
        "#X sets are for training to build model on (used to make predictions)\n",
        "#Y sets are for testing to evaluate how model performs (contains the classified answers)\n",
        "!tar -C /content/drive/MyDrive/APRD6343/TextClassification/ -zxvf /content/drive/MyDrive/APRD6343/TextClassification/diversity-2021-02-09.tar.gz"
      ],
      "execution_count": null,
      "outputs": [
        {
          "output_type": "stream",
          "text": [
            "diversity-2021-02-09/\n",
            "diversity-2021-02-09/x_test.p\n",
            "diversity-2021-02-09/x_train.p\n",
            "diversity-2021-02-09/y_train.p\n",
            "diversity-2021-02-09/y_test.p\n"
          ],
          "name": "stdout"
        }
      ]
    },
    {
      "cell_type": "code",
      "metadata": {
        "id": "c5gvznwjZxyx"
      },
      "source": [
        "ROOT_DIR = \"/content/drive/MyDrive/APRD6343/TextClassification\"\n",
        "DATA_DIR = \"%s/diversity-2021-02-09\" % ROOT_DIR\n",
        "EVAL_DIR = \"%s/evaluation\" % ROOT_DIR\n",
        "MODEL_DIR = \"%s/models\" % ROOT_DIR"
      ],
      "execution_count": null,
      "outputs": []
    },
    {
      "cell_type": "code",
      "metadata": {
        "colab": {
          "base_uri": "https://localhost:8080/"
        },
        "id": "-U11K7zblPL5",
        "outputId": "63f48bb9-fab2-4a92-dfd8-d6a589addeaf"
      },
      "source": [
        "#Glob package looks in data directory and looks for all .p extension files and makes list of all paths\n",
        "all_pickles = glob.glob(\"%s/*.p\" % DATA_DIR)\n",
        "all_pickles"
      ],
      "execution_count": null,
      "outputs": [
        {
          "output_type": "execute_result",
          "data": {
            "text/plain": [
              "['/content/drive/MyDrive/APRD6343/TextClassification/diversity-2021-02-09/x_test.p',\n",
              " '/content/drive/MyDrive/APRD6343/TextClassification/diversity-2021-02-09/x_train.p',\n",
              " '/content/drive/MyDrive/APRD6343/TextClassification/diversity-2021-02-09/y_train.p',\n",
              " '/content/drive/MyDrive/APRD6343/TextClassification/diversity-2021-02-09/y_test.p']"
            ]
          },
          "metadata": {
            "tags": []
          },
          "execution_count": 4
        }
      ]
    },
    {
      "cell_type": "code",
      "metadata": {
        "id": "MW44GAtopTnO"
      },
      "source": [
        "#Create a dictionary to extract the file names and split it by backslash – only want last item in list after splitting (which is the name of the files, or the keys)\n",
        "#For the keys, the article data will be the values\n",
        "data_dict = {}\n",
        "for a_pickle in all_pickles:\n",
        "  file_name = a_pickle.split('/')[-1]\n",
        "  data_dict[file_name] = pickle.load(open(a_pickle, 'rb'))"
      ],
      "execution_count": null,
      "outputs": []
    },
    {
      "cell_type": "code",
      "metadata": {
        "colab": {
          "base_uri": "https://localhost:8080/"
        },
        "id": "t7gwQTbfpzHS",
        "outputId": "df1fb2ad-9e43-4471-d7a4-546ec8eccc68"
      },
      "source": [
        "#File names are the keys in the dictionary\n",
        "data_dict.keys()"
      ],
      "execution_count": null,
      "outputs": [
        {
          "output_type": "execute_result",
          "data": {
            "text/plain": [
              "dict_keys(['x_test.p', 'x_train.p', 'y_train.p', 'y_test.p'])"
            ]
          },
          "metadata": {
            "tags": []
          },
          "execution_count": 6
        }
      ]
    },
    {
      "cell_type": "code",
      "metadata": {
        "colab": {
          "base_uri": "https://localhost:8080/"
        },
        "id": "Ji37jPrRp3PN",
        "outputId": "9a800791-321f-4c78-9d00-ea11ab7a9f27"
      },
      "source": [
        "type(data_dict['x_train.p'])"
      ],
      "execution_count": null,
      "outputs": [
        {
          "output_type": "execute_result",
          "data": {
            "text/plain": [
              "list"
            ]
          },
          "metadata": {
            "tags": []
          },
          "execution_count": 9
        }
      ]
    },
    {
      "cell_type": "code",
      "metadata": {
        "colab": {
          "base_uri": "https://localhost:8080/"
        },
        "id": "LpPY20q4p_Nt",
        "outputId": "475377d6-ff33-422a-d901-b5bd4e444cb7"
      },
      "source": [
        "#Look at the first 5 values in the key x_train (news articles to train on)\n",
        "data_dict['x_train.p'][0:5]"
      ],
      "execution_count": null,
      "outputs": [
        {
          "output_type": "execute_result",
          "data": {
            "text/plain": [
              "['Dodge Ram Truck Owners Sue Fiat Chrysler Over Engine Defect That Could Cause A Fire A lawsuit filed against Fiat Chrysler Automobiles (FCAU) by\\xa0Dodge Ram 1500 truck owners claims that the automaker knowingly sold more than 100,000 trucks with a defect that could cause a fire.\\nThe class-action lawsuit, which was filed on Thursday in the U.S. District Court for the Eastern District of Michigan, accused Fiat Chrysler of selling 2014 to 2019 Dodge Ram 1500 and 1500 Classic pickup trucks with a 3.0 L EcoDiesel engine with a potentially “grossly defective” exhaust gas recirculation cooler.\\xa0\\nAccording to the suit, the EGR coolers are susceptible to “thermal fatigue,” which could cause the coolers to crack over time and leak coolant. The plaintiffs claim that this can cause combustion within the intake manifold and lead to a truck fire or a sudden loss of power.\\nAttorneys of the law firm Hagens Berman said that despite Fiat Chrysler\\xa0issuing a recall over the potential defect, it has not made a fix for the issue “readily available.” The suit alleges that the company made additional misrepresentations in the recall that have compounded the danger that can occur in 100% of the affected vehicles.\\n“Owners of these trucks were already under threat of vehicle fire, and yet FCA added insult to potential injury by leaving Ram 1500 owners with no meaningful recourse,” Steve Berman, managing partner of Hagens Berman, said in a statement.\\n“FCA told 1500 owners no remedy was available, leaving them waiting in the rafters for a fix that never came. In the meantime, FCA placed the burden on truck owners to monitor their coolant levels when the risk of not doing so sufficiently is a potentially deadly vehicle fire.\\n“FCA then led owners to believe a fix was available, but proceeded to put affected owners back on the road without a fix. FCA failed its customers at every juncture, both by hiding the defect and by botching the recall,” Berman added.\\nClass members in the suit also claim that Fiat Chrysler put them in “harrowing situations.”\\nOne of the plaintiffs in the suit recalled a sudden loss of power with his 2016 Dodge Ram 1500 EcoDiesel after having three recall fixes. As the truck lost power, the plaintiff said the brakes became soft and unresponsive, but he was still able to park on the side of the road when he then saw smoke coming from the truck, which quickly was engulfed in flames, the complaint read.\\nAn investigation into the incident by the company said there was no manufacturing defect. Fiat Chrysler\\xa0said after inspecting the vehicle that “the information at hand would not permit us to associate the fire with a manufacturing or assembly error.” The company continued by saying that it was declining “any assistance associated with this matter” but “sincerely regret the unfortunate fire,” the lawsuit said.\\nThe lawsuit accuses the automaker\\xa0of fraudulent concealment and violation of federal warranty laws and other state consumer protection laws. Class members are seeking monetary relief for the affected vehicles as well as punitive damages for alleged fraud by the automaker.\\nThe news of the lawsuit comes just days after Honda agreed to a $85 million settlement over defective Takata airbags that have the potential to rupture and send shrapnel into the passenger compartment.\\nShares of of Fiat Chrysler\\xa0were trading at $11.20 as of 11:51 a.m. EDT, up 2 cents or\\xa00.19%.\\n    A Dodge Ram pickup at Criswell Chrysler Jeep Dodge in Gaithersburg, Maryland, in September 2012. Truck sales carried the month of January 2015.  Photo: Reuters   \\n',\n",
              " 'TV News Roundup: Jay Leno to Host a Reboot of ‘You Bet Your Life’ Click here to read the full article. \\nIn today’s TV news roundup, Fox announced that Jay Leno will host a reboot of “You Bet Your Life,” and MasterClass released a class with “Queer Eye” star Tan France to offer style reinvention advice to its members.\\nPeacock announced that its first original sports talk show, “Brother From Another,” will be brought to the platform on Sept. 14. The program will feature hosts Michael Holley and Michael Smith, two journalists who will discuss sport, culture, entertainment and politics with guests and sports fans during each episode. The two co-hosts, who met while working together at the Boston Globe, also serve as co-executive producers for the show. It is produced by NBC Sports and will be available on demand and for live streaming.\\nPeacock also announced “PFT PM” will be available on Sept. 14. The show is brought to the platform by the creators of “Pro Football Talk Live” and is hosted by sportswriter and commentator Mike Florio. It will also regularly include appearances by Tony Dungy, Charean Williams, Rodney Harrison, Peter King\\xa0and Chris Simms. The main focus of the series will be to provide commentary on current and recent news surrounding the National Football League (NFL).\\nFox Television Stations announced plans to reinvent comedy game show “You Bet Your Life,” alongside host Jay Leno. The reboot is currently scheduled for a fall 2021 premiere, with no exact date released yet. Each episode will pair two strangers together as contestants who will attempt to answer questions to earn a cash prize. It will also include humorous interviews with the show’s contestants, and the 180 episodes are set to be distributed by Fox First Run. Showrunner David Hurwitz will executive produce the show alongside Tom Werner.\\nMasterClass announced\\xa0a style-focused class taught by “Queer Eye” star Tan France. The class offers MasterClass members tips and tricks for enhancing and finding their personal clothing and fashion style. He will teach the importance of proportions and fit for styling outfits, while also offering advice for shopping and selecting the best outfits for a workplace environment. Mixing patterns, colors and textures is also on the agenda, as the star reveals what goes into the transformations he offers to the subjects of each “Queer Eye” episode. Watch a trailer below.\\nMTV announced that comedians from “Girl Code” and “Guy Code” will come together for a 30-minute special entitled “2020 Code,” which will premiere Sept. 17. The cast will discuss experiences and stories from 2020, while also offering advice on how to get through a year filled with unexpected barriers. The comedians featured in the MTV special include Awkwafina, Charlamagne tha God, Lil Duval, Matteo Lane, Annie Lederman, Carly Aquilino, Alesha Renee Goodly, Damien Lemon, Jon Gabrus, Jessimae Peluso, Jordan Carlos, Chris Distefano and Nessa.\\nJohn David Washington and Snoh Aalegra will join “Jimmy Kimmel Live!” tonight, with guest host Samuel L. Jackson, and “The Tonight Show Starring Jimmy Fallon” will feature Kelly Clarkson, Joy Reid and The Flaming Lips.\\nSign up for Variety’s Newsletter. For the latest news, follow us on Facebook, Twitter, and Instagram.\\n',\n",
              " 'Whole Foods BOSTON — A federal class action claims Whole Foods Market disciplines or\\xa0fires workers for wearing Black Lives Matter T-shirts\\xa0and anti-virus masks, while other political messages go unchecked.\\n',\n",
              " 'Cantu Commits To Elevating Black Female Entrepreneurs To Help Shape The Future Of Beauty STAMFORD, Conn., Oct. 29, 2020 /PRNewswire/ --\\xa0Cantu Beauty, an award-winning multicultural haircare brand, has teamed up with \\'25 Black Women In Beauty\\' (25BWB), to launch a new mentorship program titled \"CantuElevate,\" developed to create roadmaps for success and growth of Black-owned businesses. The haircare brand is collaborating with 25BWB to help consult the organization\\'s network on their business practices, helping them to economically thrive within the beauty industry. \\n\"There has never been a more important time in history to help Black-owned businesses succeed,\" says Dametria Mustin Vice President of Global Marketing, PDC Brands. \"CantuElevate has been crafted to build better business ecosystems to help shape the future of beauty. It\\'s imperative that our industry support Black entrepreneurs through knowledge-sharing programs, initiatives, and funding efforts.\" \\nThe program will launch with two virtual workshops hosted by 25BWB that will tackle integrated marketing, social media management, purchasing, media planning, and eCommerce techniques. Scheduled for November 12th, the first workshop will focus on building a stronger brand reputation, while the second workshop scheduled for November 19th will explain how to effectively execute through paid and earned media tactics. \\nAt the conclusion of the workshops, three attendees will be selected to receive a Cantu sponsored marketing campaign plus media to support upcoming marketing efforts and initiatives. \\nTo learn how you can sign-up to become a member of \\'25 Black Women In Beauty,\\' follow @25_bwb on Instagram or visit them at www.25bwb.org. \\nLearn more about Cantu\\'s full product line and the CantuElevate program by following CantuBeauty on\\xa0Instagram, Facebook, and\\xa0Twitter\\xa0or visit them at\\xa0www.cantubeauty.com.\\xa0\\xa0 \\nABOUT CANTU\\nIt\\'s Cantu Beauty\\'s mission to celebrate you in all your glory. Whether you\\'re rocking coils, curls, waves, or straight tresses, Cantu designs products specifically with you and your hair\\'s versatility in mind. Cantu\\'s collection of award-winning products is inspired by beautifully textured hair to help you achieve any look you desire. With a one-of-a-kind formula, Cantu helps achieve everything from cutting-edge looks to classic styles.\\nABOUT 25BWB\\n25 Black Women in Beauty is dedicated to elevating and celebrating Black female entrepreneurs, executives, and rising stars in beauty.\\xa0 The organization offers an exclusive network enabling intentional network, career placement, and other services. 25BWB has been featured by Glamour, Forbes, Essence, The Zoe Report, WWD, and other leading publications. Visit 25BWB.org to learn more.\\nABOUT PDC\\nPDC Wellness & Personal Care Co. (formerly known as PDC Beauty & Wellness Co.) has its origins in Parfums de Coeur, Ltd., which was founded in 1981. PDC has emerged as one of the world\\'s fastest growing beauty and wellness companies in the world. PDC\\'s portfolio of category-leading brands includes Cantu®, Dr Teal\\'s®, Eylure®, and Body Fantasies®. PDC\\'s products can be found at major mass, chain drug, grocery, and specialty retailers throughout the US, UK, and in over 60 markets globally. PDC was recently named U.S. Supplier of the Year, Consumables, Health & Wellness, by Walmart. PDC is owned by affiliates of CVC Funds and\\xa0Leonard Green\\xa0& Partners, as well as its management. For more information, please visit:\\xa0www.pdcbeauty.com. \\nABOUT CVC CAPITAL PARTNERS\\nCVC is a leading private equity and investment advisory firm. Founded in 1981, CVC today has a network of 23 offices and over 550 employees throughout Europe, Asia, and the US. To date, CVC has secured commitments of over US$160 billion from some of the world\\'s leading institutional investors across its private equity and credit strategies. In total, CVC currently manages approximately US$105 billion of assets. Today, funds managed or advised by CVC are invested in more than 80 companies worldwide, employing over 400,000 people in numerous countries. Together, these companies have combined annual sales of approximately US$92 billion. For further information about CVC please visit cvc.com.\\nABOUT LEONARD GREEN & PARTNERS\\nLeonard Green & Partners, L.P. (\"LGP\") is a leading private equity investment firm founded in 1989 and based in Los Angeles. The firm partners with experienced management teams and often with founders to invest in market-leading companies. Since inception, LGP has invested in over 90 companies in the form of traditional buyouts, going-private transactions, recapitalizations, growth equity, and selective public equity and debt positions. The firm primarily focuses on companies providing services, including consumer, business, and healthcare services, as well as retail. For more information, please visit leonardgreen.com.\\nMEDIA CONTACTS\\nAriel Smith \\nReddish\\xa0\\n[email\\xa0protected]  \\nSOURCE PDC Brands\\n https://www.cantubeauty.com \\n',\n",
              " 'Man accused in attack outside Woodman’s facing hate crime charges MADISON, Wis. (WMTV) - A man accused in an attack on a family outside a Madison grocery store is facing hate crime charges.\\nAccording to court records filed Tuesday, David Lythjohan is charged with battery, disorderly conduct, and two counts of child abuse. All four now have hate crime modifiers.\\nAfter Lythjohan’s arrest earlier this month, the Madison Police Department revealed that the 65-year-old allegedly opened a Black woman’s car door and attacked her in the Woodman’s parking lot on the east side. The woman later revealed to officers that Lythjohan also hit at least one of her children and used racial slurs during the incident.\\nLythjohan told officers that he was upset with the woman because her car was blocking him from pulling out of a parking space. He denied punching the woman to police.\\nAt the time of the attack, Lythjohan was arrested for battery and disorderly conduct. A petition started shortly afterward called for him to be charged with a hate crime.\\nHis initial appearance in court is set for August 13.\\nCopyright 2020 WMTV. All rights reserved.\\n']"
            ]
          },
          "metadata": {
            "tags": []
          },
          "execution_count": 10
        }
      ]
    },
    {
      "cell_type": "code",
      "metadata": {
        "colab": {
          "base_uri": "https://localhost:8080/"
        },
        "id": "S4xyD25TqCUR",
        "outputId": "213379a8-f0f3-444f-87de-8448af44abc7"
      },
      "source": [
        "#Look at the first 5 values in the key y_train (labels of 1 if it is a pro-racial diversity article, 0 if it is not)\n",
        "data_dict['y_train.p'][0:5]"
      ],
      "execution_count": null,
      "outputs": [
        {
          "output_type": "execute_result",
          "data": {
            "text/plain": [
              "[0, 0, 0, 1, 0]"
            ]
          },
          "metadata": {
            "tags": []
          },
          "execution_count": 11
        }
      ]
    },
    {
      "cell_type": "markdown",
      "metadata": {
        "id": "Cljkg1U5aZ3_"
      },
      "source": [
        "# Test, Tune and Save Models"
      ]
    },
    {
      "cell_type": "code",
      "metadata": {
        "id": "pwlOEXqLa7lu"
      },
      "source": [
        "#Ktrain allows the use of pretrained models available on huggingface\n",
        "#Link to full list of models to use: https://huggingface.co/transformers/pretrained_models.html"
      ],
      "execution_count": null,
      "outputs": []
    },
    {
      "cell_type": "code",
      "metadata": {
        "id": "-pic5U1eaoM9"
      },
      "source": [
        "x_train = data_dict['x_train.p']\n",
        "y_train = data_dict['y_train.p']\n",
        "x_test = data_dict['x_test.p']\n",
        "y_test = data_dict['y_test.p']\n",
        "labels = [0,1]\n",
        "target_names = list(set(labels))\n",
        "#print('building Diversity model with %s examples'% (len(texts)))"
      ],
      "execution_count": null,
      "outputs": []
    },
    {
      "cell_type": "code",
      "metadata": {
        "id": "ng9nhPGJwBwN",
        "colab": {
          "base_uri": "https://localhost:8080/",
          "height": 659,
          "referenced_widgets": [
            "3777d8bf579141c9a0749dbf447a1fce",
            "7d97f40170b14dd8aad956e4a5fe8f51",
            "e97f1b5c3f95436e9e8940f8a05e1c38",
            "b8ce98d6cbe44ac0bf3f69132379ad9e",
            "4659e5464f6a46e4b4b3c8835c4cbf99",
            "cea1a0e2c303470eb008b5b1ec76c2bd",
            "20c59252ee8c41828ff965ec258d017a",
            "ad0df3cb4ee3474ea2799996971817c6",
            "462be505716248e2abb979e0bc173f55",
            "3e7ae502c7e248daa02c1613505eb930",
            "0fddafcc341f48f29f8b2c42d753a93b",
            "57bde87b1da349d3ac4137d3b7635440",
            "ab604316c2684294a6c19bd12b4f7a2b",
            "7077475e7ee642b8bda0c4773425ba56",
            "e55689965405436d8a22e4c12f1291a7",
            "a8b94e8426b64a209fe13ebf9378e024"
          ]
        },
        "outputId": "2e7a1177-c408-4d89-f42d-78d9198bb50d"
      },
      "source": [
        "#Have to reset training each time, otherwise rerunning the notebook continues to tune the same model over and over\n",
        "tf.keras.backend.clear_session()\n",
        "\n",
        "#Maxlen is how many tokens to train on\n",
        "#Class_names is labels\n",
        "t = text.Transformer('bert-base-cased', maxlen=512, class_names=target_names)\n",
        "\n",
        "#Preprocessing training and validation set, tweaking the epoch to find lowest loss after training\n",
        "trn = t.preprocess_train(x_train, y_train)\n",
        "val = t.preprocess_test(x_test, y_test)\n",
        "model = t.get_classifier()\n",
        "learner = ktrain.get_learner(model, train_data=trn, val_data=val, batch_size=6)\n",
        "learner.lr_find(max_epochs=12)\n",
        "#Looking for higher accuracy - this tries different learning rates and looks at how accuracy and loss change for each epoch"
      ],
      "execution_count": null,
      "outputs": [
        {
          "output_type": "display_data",
          "data": {
            "application/vnd.jupyter.widget-view+json": {
              "model_id": "3777d8bf579141c9a0749dbf447a1fce",
              "version_minor": 0,
              "version_major": 2
            },
            "text/plain": [
              "HBox(children=(FloatProgress(value=0.0, description='Downloading', max=433.0, style=ProgressStyle(description_…"
            ]
          },
          "metadata": {
            "tags": []
          }
        },
        {
          "output_type": "stream",
          "text": [
            "\n",
            "preprocessing train...\n",
            "language: en\n",
            "train sequence lengths:\n",
            "\tmean : 815\n",
            "\t95percentile : 2174\n",
            "\t99percentile : 5149\n"
          ],
          "name": "stdout"
        },
        {
          "output_type": "display_data",
          "data": {
            "text/html": [
              ""
            ],
            "text/plain": [
              "<IPython.core.display.HTML object>"
            ]
          },
          "metadata": {
            "tags": []
          }
        },
        {
          "output_type": "stream",
          "text": [
            "Is Multi-Label? False\n",
            "preprocessing test...\n",
            "language: en\n",
            "test sequence lengths:\n",
            "\tmean : 803\n",
            "\t95percentile : 2034\n",
            "\t99percentile : 4760\n"
          ],
          "name": "stdout"
        },
        {
          "output_type": "display_data",
          "data": {
            "text/html": [
              ""
            ],
            "text/plain": [
              "<IPython.core.display.HTML object>"
            ]
          },
          "metadata": {
            "tags": []
          }
        },
        {
          "output_type": "display_data",
          "data": {
            "application/vnd.jupyter.widget-view+json": {
              "model_id": "462be505716248e2abb979e0bc173f55",
              "version_minor": 0,
              "version_major": 2
            },
            "text/plain": [
              "HBox(children=(FloatProgress(value=0.0, description='Downloading', max=526681800.0, style=ProgressStyle(descri…"
            ]
          },
          "metadata": {
            "tags": []
          }
        },
        {
          "output_type": "stream",
          "text": [
            "\n",
            "simulating training for different learning rates... this may take a few moments...\n",
            "Epoch 1/12\n",
            "1055/1055 [==============================] - 487s 441ms/step - loss: 0.7178 - accuracy: 0.4656\n",
            "Epoch 2/12\n",
            "1055/1055 [==============================] - 467s 443ms/step - loss: 0.4350 - accuracy: 0.8454\n",
            "Epoch 3/12\n",
            "1055/1055 [==============================] - 467s 442ms/step - loss: 0.2195 - accuracy: 0.9255\n",
            "Epoch 4/12\n",
            "1055/1055 [==============================] - 466s 442ms/step - loss: 0.1920 - accuracy: 0.9295\n",
            "Epoch 5/12\n",
            "1055/1055 [==============================] - 466s 441ms/step - loss: 0.2742 - accuracy: 0.8999\n",
            "Epoch 6/12\n",
            "1055/1055 [==============================] - 466s 442ms/step - loss: 0.6505 - accuracy: 0.6735\n",
            "Epoch 7/12\n",
            "1055/1055 [==============================] - 398s 377ms/step - loss: 0.6945 - accuracy: 0.6354\n",
            "\n",
            "\n",
            "done.\n",
            "Please invoke the Learner.lr_plot() method to visually inspect the loss plot to help identify the maximal learning rate associated with falling loss.\n"
          ],
          "name": "stdout"
        }
      ]
    },
    {
      "cell_type": "code",
      "metadata": {
        "id": "WWD_bQeC4JQp",
        "colab": {
          "base_uri": "https://localhost:8080/",
          "height": 283
        },
        "outputId": "b65ee6ec-8f8b-4cfc-dc4d-e7a3f218d1ea"
      },
      "source": [
        "#Pick optimal learning rate, where loss appears to be approximately the lowest for first time\n",
        "learner.lr_plot()"
      ],
      "execution_count": null,
      "outputs": [
        {
          "output_type": "display_data",
          "data": {
            "image/png": "[encoded data removed]",
            "text/plain": [
              "<Figure size 432x288 with 1 Axes>"
            ]
          },
          "metadata": {
            "tags": [],
            "needs_background": "light"
          }
        }
      ]
    },
    {
      "cell_type": "code",
      "metadata": {
        "id": "O-fEI-J5xz24",
        "colab": {
          "base_uri": "https://localhost:8080/"
        },
        "outputId": "f98df976-5cb2-4176-c2b6-7da1cb3d2c00"
      },
      "source": [
        "#1e-5 is the optimal learning rate according to the chart\n",
        "tf.keras.backend.clear_session()\n",
        "model = t.get_classifier()\n",
        "learner = ktrain.get_learner(model, train_data=trn, val_data=val, batch_size=6)\n",
        "learner.autofit(1e-5, 20, early_stopping=True)\n",
        "#20 is the epoch, or number of times to go through data - early_stopping stops the process when the model stops improving\n",
        "validation = learner.validate(val_data=val)"
      ],
      "execution_count": null,
      "outputs": [
        {
          "output_type": "stream",
          "text": [
            "\n",
            "\n",
            "begin training using triangular learning rate policy with max lr of 1e-05...\n",
            "Epoch 1/20\n",
            "1056/1056 [==============================] - 522s 476ms/step - loss: 0.3849 - accuracy: 0.8389 - val_loss: 0.1804 - val_accuracy: 0.9268\n",
            "Epoch 2/20\n",
            "1056/1056 [==============================] - 500s 472ms/step - loss: 0.1701 - accuracy: 0.9377 - val_loss: 0.1598 - val_accuracy: 0.9419\n",
            "Epoch 3/20\n",
            "1056/1056 [==============================] - 499s 472ms/step - loss: 0.1518 - accuracy: 0.9477 - val_loss: 0.1675 - val_accuracy: 0.9362\n",
            "Restoring model weights from the end of the best epoch.\n",
            "Epoch 00003: early stopping\n",
            "Weights from best epoch have been loaded into model.\n",
            "              precision    recall  f1-score   support\n",
            "\n",
            "           0       0.95      0.97      0.96      1093\n",
            "           1       0.93      0.88      0.90       491\n",
            "\n",
            "    accuracy                           0.94      1584\n",
            "   macro avg       0.94      0.92      0.93      1584\n",
            "weighted avg       0.94      0.94      0.94      1584\n",
            "\n"
          ],
          "name": "stdout"
        }
      ]
    },
    {
      "cell_type": "code",
      "metadata": {
        "id": "ti1VfWebw-a3",
        "colab": {
          "base_uri": "https://localhost:8080/"
        },
        "outputId": "f156b9ef-2df0-4d47-8115-57e21fc4023a"
      },
      "source": [
        "#Save model to redeploy\n",
        "predictor = ktrain.get_predictor(learner.model, preproc=t)\n",
        "print(\"Saving best model...\")\n",
        "predictor.save('%s/diversity/' % (MODEL_DIR))\n",
        "print(\"loading back in....\")\n",
        "predictor = ktrain.load_predictor('%s/diversity/' % (MODEL_DIR))\n",
        "validation = learner.validate(val_data=val, print_report=True)"
      ],
      "execution_count": null,
      "outputs": [
        {
          "output_type": "stream",
          "text": [
            "Saving best model...\n",
            "loading back in....\n",
            "              precision    recall  f1-score   support\n",
            "\n",
            "           0       0.95      0.97      0.96      1093\n",
            "           1       0.93      0.88      0.90       491\n",
            "\n",
            "    accuracy                           0.94      1584\n",
            "   macro avg       0.94      0.92      0.93      1584\n",
            "weighted avg       0.94      0.94      0.94      1584\n",
            "\n"
          ],
          "name": "stdout"
        }
      ]
    },
    {
      "cell_type": "code",
      "metadata": {
        "id": "6urVvKOqUHEl",
        "colab": {
          "base_uri": "https://localhost:8080/"
        },
        "outputId": "fd0f3817-391e-4f65-e397-95fcc7908b94"
      },
      "source": [
        "!pip3 install -q git+https://github.com/amaiya/eli5@tfkeras_0_10_1"
      ],
      "execution_count": null,
      "outputs": [
        {
          "output_type": "stream",
          "text": [
            "  Building wheel for eli5 (setup.py) ... \u001b[?25l\u001b[?25hdone\n"
          ],
          "name": "stdout"
        }
      ]
    },
    {
      "cell_type": "code",
      "metadata": {
        "id": "KVpTNeKqXhov",
        "colab": {
          "base_uri": "https://localhost:8080/",
          "height": 169
        },
        "outputId": "8dc0a834-5494-4766-dee6-cc5282b9f4a3"
      },
      "source": [
        "#To classify random news articles - the darker the green, the more the token contributed\n",
        "predictor.explain('Diversity is the key to a healthy society')"
      ],
      "execution_count": null,
      "outputs": [
        {
          "output_type": "execute_result",
          "data": {
            "text/html": [
              "\n",
              "    <style>\n",
              "    table.eli5-weights tr:hover {\n",
              "        filter: brightness(85%);\n",
              "    }\n",
              "</style>\n",
              "\n",
              "\n",
              "\n",
              "    \n",
              "\n",
              "    \n",
              "\n",
              "    \n",
              "\n",
              "    \n",
              "\n",
              "    \n",
              "\n",
              "    \n",
              "\n",
              "\n",
              "    \n",
              "\n",
              "    \n",
              "\n",
              "    \n",
              "\n",
              "    \n",
              "        \n",
              "\n",
              "    \n",
              "\n",
              "        \n",
              "\n",
              "        \n",
              "    \n",
              "        \n",
              "        \n",
              "    \n",
              "        <p style=\"margin-bottom: 0.5em; margin-top: 0em\">\n",
              "            <b>\n",
              "    \n",
              "        y=1\n",
              "    \n",
              "</b>\n",
              "\n",
              "    \n",
              "    (probability <b>0.874</b>, score <b>1.939</b>)\n",
              "\n",
              "top features\n",
              "        </p>\n",
              "    \n",
              "    <table class=\"eli5-weights\"\n",
              "           style=\"border-collapse: collapse; border: none; margin-top: 0em; table-layout: auto; margin-bottom: 2em;\">\n",
              "        <thead>\n",
              "        <tr style=\"border: none;\">\n",
              "            \n",
              "                <th style=\"padding: 0 1em 0 0.5em; text-align: right; border: none;\" title=\"Feature contribution already accounts for the feature value (for linear models, contribution = weight * feature value), and the sum of feature contributions is equal to the score or, for some classifiers, to the probability. Feature values are shown if &quot;show_feature_values&quot; is True.\">\n",
              "                    Contribution<sup>?</sup>\n",
              "                </th>\n",
              "            \n",
              "            <th style=\"padding: 0 0.5em 0 0.5em; text-align: left; border: none;\">Feature</th>\n",
              "            \n",
              "        </tr>\n",
              "        </thead>\n",
              "        <tbody>\n",
              "        \n",
              "            <tr style=\"background-color: hsl(120, 100.00%, 80.00%); border: none;\">\n",
              "    <td style=\"padding: 0 1em 0 0.5em; text-align: right; border: none;\">\n",
              "        +2.992\n",
              "    </td>\n",
              "    <td style=\"padding: 0 0.5em 0 0.5em; text-align: left; border: none;\">\n",
              "        Highlighted in text (sum)\n",
              "    </td>\n",
              "    \n",
              "</tr>\n",
              "        \n",
              "        \n",
              "\n",
              "        \n",
              "        \n",
              "            <tr style=\"background-color: hsl(0, 100.00%, 90.37%); border: none;\">\n",
              "    <td style=\"padding: 0 1em 0 0.5em; text-align: right; border: none;\">\n",
              "        -1.053\n",
              "    </td>\n",
              "    <td style=\"padding: 0 0.5em 0 0.5em; text-align: left; border: none;\">\n",
              "        &lt;BIAS&gt;\n",
              "    </td>\n",
              "    \n",
              "</tr>\n",
              "        \n",
              "\n",
              "        </tbody>\n",
              "    </table>\n",
              "\n",
              "    \n",
              "\n",
              "\n",
              "\n",
              "    <p style=\"margin-bottom: 2.5em; margin-top:-0.5em;\">\n",
              "        <span style=\"background-color: hsl(120, 100.00%, 60.00%); opacity: 1.00\" title=\"3.187\">diversity</span><span style=\"opacity: 0.80\"> </span><span style=\"background-color: hsl(120, 100.00%, 93.28%); opacity: 0.82\" title=\"0.249\">is</span><span style=\"opacity: 0.80\"> </span><span style=\"background-color: hsl(120, 100.00%, 93.69%); opacity: 0.81\" title=\"0.228\">the</span><span style=\"opacity: 0.80\"> </span><span style=\"background-color: hsl(120, 100.00%, 84.56%); opacity: 0.85\" title=\"0.818\">key</span><span style=\"opacity: 0.80\"> </span><span style=\"background-color: hsl(120, 100.00%, 93.47%); opacity: 0.82\" title=\"0.239\">to</span><span style=\"opacity: 0.80\"> </span><span style=\"background-color: hsl(120, 100.00%, 94.98%); opacity: 0.81\" title=\"0.164\">a</span><span style=\"opacity: 0.80\"> </span><span style=\"background-color: hsl(120, 100.00%, 93.45%); opacity: 0.82\" title=\"0.240\">healthy</span><span style=\"opacity: 0.80\"> </span><span style=\"background-color: hsl(120, 100.00%, 91.43%); opacity: 0.82\" title=\"0.353\">society</span>\n",
              "    </p>\n",
              "\n",
              "\n",
              "    \n",
              "\n",
              "    \n",
              "\n",
              "    \n",
              "\n",
              "    \n",
              "\n",
              "\n",
              "    \n",
              "\n",
              "    \n",
              "\n",
              "    \n",
              "\n",
              "    \n",
              "\n",
              "    \n",
              "\n",
              "    \n",
              "\n",
              "\n",
              "    \n",
              "\n",
              "    \n",
              "\n",
              "    \n",
              "\n",
              "    \n",
              "\n",
              "    \n",
              "\n",
              "    \n",
              "\n",
              "\n",
              "\n"
            ],
            "text/plain": [
              "<IPython.core.display.HTML object>"
            ]
          },
          "metadata": {
            "tags": []
          },
          "execution_count": 47
        }
      ]
    },
    {
      "cell_type": "code",
      "metadata": {
        "id": "3TnUarbsriFR"
      },
      "source": [
        "predictor.explain('How PepsiCo plans to increase gender, racial diversity in management')"
      ],
      "execution_count": null,
      "outputs": []
    },
    {
      "cell_type": "code",
      "metadata": {
        "id": "SRLEw4_wriPK"
      },
      "source": [
        "predictor.explain('A patriotic education should include Black history')"
      ],
      "execution_count": null,
      "outputs": []
    }
  ]
}