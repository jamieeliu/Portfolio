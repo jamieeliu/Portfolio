{
  "nbformat": 4,
  "nbformat_minor": 0,
  "metadata": {
    "colab": {
      "name": "1.20_pulling_asins.ipynb",
      "provenance": [],
      "collapsed_sections": []
    },
    "kernelspec": {
      "name": "python3",
      "display_name": "Python 3"
    }
  },
  "cells": [
    {
      "cell_type": "markdown",
      "metadata": {
        "id": "TtEmabZRtnag"
      },
      "source": [
        "# Download meta data file into folder, then unzip"
      ]
    },
    {
      "cell_type": "code",
      "metadata": {
        "id": "6dErToJ4K0s-"
      },
      "source": [
        "!wget https://s3.amazonaws.com/vargo.aprd6342/data/meta_Clothing_Shoes_and_Jewelry.json.gz -P /content/drive/MyDrive/APRD6343/TopicModeling"
      ],
      "execution_count": null,
      "outputs": []
    },
    {
      "cell_type": "code",
      "metadata": {
        "id": "iO3AXCdwPVHG"
      },
      "source": [
        "#-d decompresses the zip file\n",
        "!gzip -d /content/drive/MyDrive/APRD6343/TopicModeling/meta_Clothing_Shoes_and_Jewelry.json.gz"
      ],
      "execution_count": null,
      "outputs": []
    },
    {
      "cell_type": "markdown",
      "metadata": {
        "id": "UWyla0k1B0s4"
      },
      "source": [
        "# Importing packages, setting working directory, and opening the meta data file"
      ]
    },
    {
      "cell_type": "code",
      "metadata": {
        "id": "waF0VXU1QHVL"
      },
      "source": [
        "import pickle\n",
        "import json\n",
        "\n",
        "#Store the filename as a string variable\n",
        "working_directory = '/content/drive/MyDrive/APRD6343/TopicModeling'\n",
        "working_file = '%s/meta_Clothing_Shoes_and_Jewelry.json' % working_directory #%s gets replaced with working_directory\n",
        "loadedjson = open(working_file, 'r')"
      ],
      "execution_count": null,
      "outputs": []
    },
    {
      "cell_type": "markdown",
      "metadata": {
        "id": "h6cQHKZYB54g"
      },
      "source": [
        "# Exlporing products and categories in the file"
      ]
    },
    {
      "cell_type": "code",
      "metadata": {
        "id": "RzpLBzJ4uDkn"
      },
      "source": [
        "from time import sleep\n",
        "\n",
        "#Getting reviews is a 2 step process\n",
        "#1) Go through Amazon's product catalog for \"Clothnig, Shoes and Jewelery\" and extract out matching products by their ASIN\n",
        "#2) Go through review data and parse out matching reviews by ASIN"
      ],
      "execution_count": null,
      "outputs": []
    },
    {
      "cell_type": "code",
      "metadata": {
        "colab": {
          "base_uri": "https://localhost:8080/"
        },
        "id": "3TYeVA-mRMWz",
        "outputId": "588c5626-2197-4338-833e-ae165c3550cb"
      },
      "source": [
        "#1) Extracting ASINs by brand\n",
        "#First, iterate through data and store it as a dictionary\n",
        "\n",
        "#Set the counter to see how many products there are in the json file\n",
        "count = 0\n",
        "allproducts = {}\n",
        "\n",
        "#Each line is a product and its metadata\n",
        "for aline in loadedjson:\n",
        "  count += 1\n",
        "  if count % 100000 == 0: #Only print count every 100k, so it doesn't spam the output console\n",
        "    print(count)\n",
        "  aproduct = eval(aline) #eval() takes the text string and interprets it as code\n",
        "  allproducts[aproduct['asin']] = aproduct #Make dictionary entry with the ASIN of the product as the key and the metadata as nested dictionaries"
      ],
      "execution_count": null,
      "outputs": [
        {
          "output_type": "stream",
          "text": [
            "100000\n",
            "200000\n",
            "300000\n",
            "400000\n",
            "500000\n",
            "600000\n",
            "700000\n",
            "800000\n",
            "900000\n",
            "1000000\n",
            "1100000\n",
            "1200000\n",
            "1300000\n",
            "1400000\n",
            "1500000\n"
          ],
          "name": "stdout"
        }
      ]
    },
    {
      "cell_type": "code",
      "metadata": {
        "id": "c9_jN6zhVCew",
        "colab": {
          "base_uri": "https://localhost:8080/"
        },
        "outputId": "a8440d93-273f-4e08-97ce-45f351017225"
      },
      "source": [
        "#Next,  explore product data to see what categories are common in the data\n",
        "#This is a subset of prod categories, so you need to find the list of product ids\n",
        "#For Steve Madden - use 'categories' meta data field to find the brand\n",
        "\n",
        "\n",
        "#Create a dictionary of all product subcategories\n",
        "#By doing so, also come up with a list of brands and number of products they have listed in the Amazon product catalog\n",
        "\n",
        "allcategories = {}\n",
        "count = 0\n",
        "\n",
        "for aproduct in allproducts:\n",
        "  count += 1 #Counter to know progress in processing the entire catalog\n",
        "  if count % 100000 == 0:\n",
        "    #There are 1.5 M products, so build a counter that tells how processing is going - when counter reaches 1, it is done\n",
        "    print(count/1503384)\n",
        "  #Set dictionary up with just 1 product entry to inspect and reference it\n",
        "  aproduct = allproducts[aproduct]\n",
        "  #Create a dictionary entry for each product category while also counting occurences of each category\n",
        "  #If there is a category field/key in the dictionary, then continue\n",
        "  if 'categories' in aproduct:\n",
        "    for categories in aproduct['categories']: #Iterate through each list of categories\n",
        "      for acategory in categories: #Iterate for every category in each list\n",
        "        if acategory in allcategories: #If category is already in dictionary,\n",
        "          allcategories[acategory] += 1 #Increase count for thet category key\n",
        "        if acategory not in allcategories: #If it is not already in dictionary,\n",
        "          allcategories[acategory] = 1 #Add key and set to 1\n",
        "  #Dictionary with categories as key, values is the number of times each cateogry is there"
      ],
      "execution_count": null,
      "outputs": [
        {
          "output_type": "stream",
          "text": [
            "0.06651660520532346\n",
            "0.13303321041064692\n",
            "0.19954981561597038\n",
            "0.26606642082129384\n",
            "0.33258302602661727\n",
            "0.39909963123194075\n",
            "0.4656162364372642\n",
            "0.5321328416425877\n",
            "0.5986494468479111\n",
            "0.6651660520532345\n",
            "0.7316826572585581\n",
            "0.7981992624638815\n",
            "0.8647158676692049\n",
            "0.9312324728745284\n",
            "0.9977490780798518\n"
          ],
          "name": "stdout"
        }
      ]
    },
    {
      "cell_type": "code",
      "metadata": {
        "colab": {
          "base_uri": "https://localhost:8080/"
        },
        "id": "32ky-dAD3c_T",
        "outputId": "8e41b67d-23a4-4352-bc3a-57596fe0cf5a"
      },
      "source": [
        "sortedlist = []\n",
        "for acategory in allcategories:\n",
        "  sortedlist.append((allcategories[acategory],acategory)) #Add count and the category name\n",
        "\n",
        "sortedlist = sorted(sortedlist, reverse=True) #Sort list descending\n",
        "\n",
        "for item in range (0,50):\n",
        "  print (sortedlist[item])\n",
        "  #Prints top product categories in the product data"
      ],
      "execution_count": null,
      "outputs": [
        {
          "output_type": "stream",
          "text": [
            "(3429257, 'Clothing, Shoes & Jewelry')\n",
            "(1086181, 'Women')\n",
            "(617092, 'Clothing')\n",
            "(541681, 'Men')\n",
            "(537761, 'Novelty, Costumes & More')\n",
            "(432653, 'Shoes')\n",
            "(339900, 'Novelty')\n",
            "(268065, 'Shoes & Accessories: International Shipping Available')\n",
            "(255454, 'Jewelry')\n",
            "(174962, 'Accessories')\n",
            "(97095, 'Girls')\n",
            "(93596, 'Tops & Tees')\n",
            "(87688, 'Dresses')\n",
            "(84549, 'T-Shirts')\n",
            "(82063, 'Boots')\n",
            "(80302, 'Shirts')\n",
            "(79897, 'Sandals')\n",
            "(79545, 'Watches')\n",
            "(77684, 'Boys')\n",
            "(73507, 'Jewelry: International Shipping Available')\n",
            "(72372, 'Athletic')\n",
            "(71414, 'Wrist Watches')\n",
            "(70335, 'Sports & Outdoors')\n",
            "(59763, 'Petite')\n",
            "(58350, 'Fashion')\n",
            "(53826, 'Costumes & Accessories')\n",
            "(53021, 'Earrings')\n",
            "(51728, 'Baby')\n",
            "(50943, 'Comfort Shoes')\n",
            "(50662, 'Casual')\n",
            "(50357, 'Boot Shop')\n",
            "(50124, 'C')\n",
            "(49599, 'Active')\n",
            "(49491, 'Band & Music Fan')\n",
            "(46004, 'New Arrivals')\n",
            "(43722, 'Necklaces & Pendants')\n",
            "(43410, 'Intimates')\n",
            "(43100, 'S')\n",
            "(41709, 'Lingerie, Sleep & Lounge')\n",
            "(41542, 'Handbags & Wallets')\n",
            "(41400, 'Rings')\n",
            "(40832, \"Women's Luxury Brands\")\n",
            "(39550, 'N')\n",
            "(38675, 'Hats & Caps')\n",
            "(38262, 'Fine')\n",
            "(35651, 'Luggage & Travel Gear')\n",
            "(35564, 'Pumps')\n",
            "(34640, 'Big & Tall')\n",
            "(34623, 'Available for International Shipping')\n",
            "(33139, 'Fashion Sneakers')\n"
          ],
          "name": "stdout"
        }
      ]
    },
    {
      "cell_type": "code",
      "metadata": {
        "colab": {
          "base_uri": "https://localhost:8080/"
        },
        "id": "d9Bges7p4gzC",
        "outputId": "f6a9bf68-1a72-4f46-849c-4b13f63111b3"
      },
      "source": [
        "allcategories['Steve Madden'] #Getting count for Steve Madden"
      ],
      "execution_count": null,
      "outputs": [
        {
          "output_type": "execute_result",
          "data": {
            "text/plain": [
              "4593"
            ]
          },
          "metadata": {
            "tags": []
          },
          "execution_count": 13
        }
      ]
    },
    {
      "cell_type": "markdown",
      "metadata": {
        "id": "jwif4xhEB-OD"
      },
      "source": [
        "# Extracting ASINs"
      ]
    },
    {
      "cell_type": "code",
      "metadata": {
        "colab": {
          "base_uri": "https://localhost:8080/"
        },
        "id": "yQ061hgm49p3",
        "outputId": "802bedb6-7087-4e87-9f49-69ba312992e1"
      },
      "source": [
        "#Now, go through dictionary and extract out matching ASINs for Steve Madden\n",
        "#First, create a set to store the ASINs\n",
        "#Note: use a set here to not have duplicates\n",
        "\n",
        "allSMasins = set ()\n",
        "count = 0\n",
        "\n",
        "for areview in allproducts:\n",
        "  theproduct = allproducts[areview]\n",
        "  count += 1\n",
        "  if count % 100000 == 0:\n",
        "    print(count/1503384)\n",
        "\n",
        "    #Iterate for each category for a product – any given product can be assigned multiple product categories\n",
        "    #Each category is encoded as a list, so have to iterate 2 times\n",
        "  for categories in theproduct['categories']:\n",
        "    for acategory in categories:\n",
        "      #Checking to see if product category matches Steve Madden\n",
        "      #Lowercasing the category string in case capitization might get in the way of a match\n",
        "      if 'steve madden' in acategory.lower():\n",
        "        #Store it to the set of Steve Madden ASINs\n",
        "        allSMasins.add(theproduct['asin'])\n",
        "\n",
        "print(len(allSMasins)) #Check to see if it matches the count from earlier"
      ],
      "execution_count": null,
      "outputs": [
        {
          "output_type": "stream",
          "text": [
            "0.06651660520532346\n",
            "0.13303321041064692\n",
            "0.19954981561597038\n",
            "0.26606642082129384\n",
            "0.33258302602661727\n",
            "0.39909963123194075\n",
            "0.4656162364372642\n",
            "0.5321328416425877\n",
            "0.5986494468479111\n",
            "0.6651660520532345\n",
            "0.7316826572585581\n",
            "0.7981992624638815\n",
            "0.8647158676692049\n",
            "0.9312324728745284\n",
            "0.9977490780798518\n",
            "5291\n"
          ],
          "name": "stdout"
        }
      ]
    },
    {
      "cell_type": "markdown",
      "metadata": {
        "id": "w__LcX6dy7n2"
      },
      "source": [
        "# Write out ASINs to use in the next file (2-Pulling-Reviews) to extract product reviews"
      ]
    },
    {
      "cell_type": "code",
      "metadata": {
        "id": "ZbHpyAk06OBi"
      },
      "source": [
        "outputfile = open('%s/allSMasins.txt' % working_directory, 'w')\n",
        "\n",
        "outputfile.write(','.join(allSMasins))\n",
        "outputfile.close()"
      ],
      "execution_count": null,
      "outputs": []
    }
  ]
}